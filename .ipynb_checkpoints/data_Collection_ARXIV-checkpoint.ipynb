{
 "cells": [
  {
   "cell_type": "code",
   "execution_count": 1,
   "id": "0911d8f1",
   "metadata": {},
   "outputs": [],
   "source": [
    "import pickle\n",
    "import pandas as pd"
   ]
  },
  {
   "cell_type": "code",
   "execution_count": 2,
   "id": "78619b2d",
   "metadata": {},
   "outputs": [],
   "source": [
    "file_path = 'train_Uncleaned_ARXIV.pkl'\n",
    "\n",
    "with open(file_path, 'rb') as file:\n",
    "    loaded_data = pickle.load(file)\n",
    "    \n",
    "df_train = loaded_data.drop(['content_emotion', 'comments_emotion', 'emotion_gap', 'style_feature'], axis=1)"
   ]
  },
  {
   "cell_type": "code",
   "execution_count": 3,
   "id": "17f966a5",
   "metadata": {},
   "outputs": [
    {
     "data": {
      "text/plain": [
       "label\n",
       "0    14397\n",
       "1     5004\n",
       "Name: count, dtype: int64"
      ]
     },
     "execution_count": 3,
     "metadata": {},
     "output_type": "execute_result"
    }
   ],
   "source": [
    "df_train['label'].value_counts()"
   ]
  },
  {
   "cell_type": "code",
   "execution_count": 4,
   "id": "546fda6a",
   "metadata": {},
   "outputs": [],
   "source": [
    "file_path = 'test_Uncleaned_ARXIV.pkl'\n",
    "\n",
    "with open(file_path, 'rb') as file:\n",
    "    loaded_data = pickle.load(file)\n",
    "    \n",
    "df_test = loaded_data.drop(['content_emotion', 'comments_emotion', 'emotion_gap', 'style_feature'], axis=1)"
   ]
  },
  {
   "cell_type": "code",
   "execution_count": 5,
   "id": "85177dce",
   "metadata": {},
   "outputs": [
    {
     "data": {
      "text/plain": [
       "label\n",
       "0    4406\n",
       "1    1341\n",
       "Name: count, dtype: int64"
      ]
     },
     "execution_count": 5,
     "metadata": {},
     "output_type": "execute_result"
    }
   ],
   "source": [
    "df_test['label'].value_counts()"
   ]
  },
  {
   "cell_type": "code",
   "execution_count": 6,
   "id": "d2278769",
   "metadata": {},
   "outputs": [],
   "source": [
    "file_path = 'val_Uncleaned_ARXIV.pkl'\n",
    "\n",
    "with open(file_path, 'rb') as file:\n",
    "    loaded_data = pickle.load(file)\n",
    "    \n",
    "df_val = loaded_data.drop(['content_emotion', 'comments_emotion', 'emotion_gap', 'style_feature'], axis=1)"
   ]
  },
  {
   "cell_type": "code",
   "execution_count": 7,
   "id": "a8bb00fc",
   "metadata": {},
   "outputs": [
    {
     "data": {
      "text/plain": [
       "label\n",
       "0    4334\n",
       "1    1326\n",
       "Name: count, dtype: int64"
      ]
     },
     "execution_count": 7,
     "metadata": {},
     "output_type": "execute_result"
    }
   ],
   "source": [
    "df_val['label'].value_counts()"
   ]
  },
  {
   "cell_type": "code",
   "execution_count": 8,
   "id": "8fe0fe50",
   "metadata": {},
   "outputs": [],
   "source": [
    "df_train['length'] = df_train['content'].apply(lambda x: len(x))\n",
    "df_test['length'] = df_test['content'].apply(lambda x: len(x))\n",
    "df_val['length'] = df_val['content'].apply(lambda x: len(x))"
   ]
  },
  {
   "cell_type": "code",
   "execution_count": 9,
   "id": "18fde6f2",
   "metadata": {},
   "outputs": [],
   "source": [
    "df = pd.concat([df_train, df_test, df_val], axis=0)\n",
    "df['label'] = df['label'].apply(lambda x: int(x))\n",
    "df = df[df['label'] == 0]\n",
    "df.drop(['comments', 'category', 'length'], axis=1, inplace=True)\n",
    "df.reset_index(inplace=True)\n",
    "df.drop(['index'], axis=1, inplace=True)"
   ]
  },
  {
   "cell_type": "code",
   "execution_count": 10,
   "id": "4d662400",
   "metadata": {},
   "outputs": [
    {
     "data": {
      "text/plain": [
       "label\n",
       "0    23137\n",
       "Name: count, dtype: int64"
      ]
     },
     "execution_count": 10,
     "metadata": {},
     "output_type": "execute_result"
    }
   ],
   "source": [
    "df['label'].value_counts()"
   ]
  },
  {
   "cell_type": "code",
   "execution_count": 11,
   "id": "5e8a9e41",
   "metadata": {},
   "outputs": [
    {
     "name": "stdout",
     "output_type": "stream",
     "text": [
      "23137\n"
     ]
    }
   ],
   "source": [
    "print(14397+4406+4334)"
   ]
  },
  {
   "cell_type": "code",
   "execution_count": 12,
   "id": "331811d9",
   "metadata": {},
   "outputs": [
    {
     "data": {
      "text/plain": [
       "23137"
      ]
     },
     "execution_count": 12,
     "metadata": {},
     "output_type": "execute_result"
    }
   ],
   "source": [
    "len(df)"
   ]
  },
  {
   "cell_type": "code",
   "execution_count": 13,
   "id": "01568b11",
   "metadata": {},
   "outputs": [],
   "source": [
    "df.to_csv('df_Fake_Arxiv.csv')"
   ]
  },
  {
   "cell_type": "code",
   "execution_count": 14,
   "id": "18a5641e",
   "metadata": {},
   "outputs": [],
   "source": [
    "df['length'] = df['content'].apply(lambda x:len(x))"
   ]
  },
  {
   "cell_type": "code",
   "execution_count": 15,
   "id": "1d6b4ca1",
   "metadata": {},
   "outputs": [
    {
     "data": {
      "text/html": [
       "<div>\n",
       "<style scoped>\n",
       "    .dataframe tbody tr th:only-of-type {\n",
       "        vertical-align: middle;\n",
       "    }\n",
       "\n",
       "    .dataframe tbody tr th {\n",
       "        vertical-align: top;\n",
       "    }\n",
       "\n",
       "    .dataframe thead th {\n",
       "        text-align: right;\n",
       "    }\n",
       "</style>\n",
       "<table border=\"1\" class=\"dataframe\">\n",
       "  <thead>\n",
       "    <tr style=\"text-align: right;\">\n",
       "      <th></th>\n",
       "      <th>content</th>\n",
       "      <th>label</th>\n",
       "      <th>length</th>\n",
       "    </tr>\n",
       "  </thead>\n",
       "  <tbody>\n",
       "    <tr>\n",
       "      <th>0</th>\n",
       "      <td>Source: Angela George/CC BY-SA 3.0\\n\\nOne of m...</td>\n",
       "      <td>0</td>\n",
       "      <td>6776</td>\n",
       "    </tr>\n",
       "    <tr>\n",
       "      <th>1</th>\n",
       "      <td>\"He gave them details of what may have occurre...</td>\n",
       "      <td>0</td>\n",
       "      <td>281</td>\n",
       "    </tr>\n",
       "    <tr>\n",
       "      <th>2</th>\n",
       "      <td>Like their respectively memorable characters i...</td>\n",
       "      <td>0</td>\n",
       "      <td>2217</td>\n",
       "    </tr>\n",
       "    <tr>\n",
       "      <th>3</th>\n",
       "      <td>A cursory glance at the Spring ’16 collections...</td>\n",
       "      <td>0</td>\n",
       "      <td>2241</td>\n",
       "    </tr>\n",
       "    <tr>\n",
       "      <th>4</th>\n",
       "      <td>Liza Weil and Paul Adelstein’s divorce has bee...</td>\n",
       "      <td>0</td>\n",
       "      <td>1268</td>\n",
       "    </tr>\n",
       "    <tr>\n",
       "      <th>...</th>\n",
       "      <td>...</td>\n",
       "      <td>...</td>\n",
       "      <td>...</td>\n",
       "    </tr>\n",
       "    <tr>\n",
       "      <th>23132</th>\n",
       "      <td>Yeah. I was definitely seeing this. A substant...</td>\n",
       "      <td>0</td>\n",
       "      <td>272</td>\n",
       "    </tr>\n",
       "    <tr>\n",
       "      <th>23133</th>\n",
       "      <td>The World Health Organization (WHO) is working...</td>\n",
       "      <td>0</td>\n",
       "      <td>1062</td>\n",
       "    </tr>\n",
       "    <tr>\n",
       "      <th>23134</th>\n",
       "      <td>\"We must all learn to control and manage this ...</td>\n",
       "      <td>0</td>\n",
       "      <td>201</td>\n",
       "    </tr>\n",
       "    <tr>\n",
       "      <th>23135</th>\n",
       "      <td>What’s the relationship between low levels of ...</td>\n",
       "      <td>0</td>\n",
       "      <td>142</td>\n",
       "    </tr>\n",
       "    <tr>\n",
       "      <th>23136</th>\n",
       "      <td>There is a need to ensure access to controlled...</td>\n",
       "      <td>0</td>\n",
       "      <td>244</td>\n",
       "    </tr>\n",
       "  </tbody>\n",
       "</table>\n",
       "<p>23137 rows × 3 columns</p>\n",
       "</div>"
      ],
      "text/plain": [
       "                                                 content  label  length\n",
       "0      Source: Angela George/CC BY-SA 3.0\\n\\nOne of m...      0    6776\n",
       "1      \"He gave them details of what may have occurre...      0     281\n",
       "2      Like their respectively memorable characters i...      0    2217\n",
       "3      A cursory glance at the Spring ’16 collections...      0    2241\n",
       "4      Liza Weil and Paul Adelstein’s divorce has bee...      0    1268\n",
       "...                                                  ...    ...     ...\n",
       "23132  Yeah. I was definitely seeing this. A substant...      0     272\n",
       "23133  The World Health Organization (WHO) is working...      0    1062\n",
       "23134  \"We must all learn to control and manage this ...      0     201\n",
       "23135  What’s the relationship between low levels of ...      0     142\n",
       "23136  There is a need to ensure access to controlled...      0     244\n",
       "\n",
       "[23137 rows x 3 columns]"
      ]
     },
     "execution_count": 15,
     "metadata": {},
     "output_type": "execute_result"
    }
   ],
   "source": [
    "df"
   ]
  },
  {
   "cell_type": "code",
   "execution_count": null,
   "id": "3d9e140a",
   "metadata": {},
   "outputs": [],
   "source": []
  }
 ],
 "metadata": {
  "kernelspec": {
   "display_name": "Python 3 (ipykernel)",
   "language": "python",
   "name": "python3"
  },
  "language_info": {
   "codemirror_mode": {
    "name": "ipython",
    "version": 3
   },
   "file_extension": ".py",
   "mimetype": "text/x-python",
   "name": "python",
   "nbconvert_exporter": "python",
   "pygments_lexer": "ipython3",
   "version": "3.11.5"
  }
 },
 "nbformat": 4,
 "nbformat_minor": 5
}
