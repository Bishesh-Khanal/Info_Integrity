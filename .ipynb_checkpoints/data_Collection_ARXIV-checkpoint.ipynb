{
 "cells": [
  {
   "cell_type": "code",
   "execution_count": 23,
   "id": "0911d8f1",
   "metadata": {},
   "outputs": [],
   "source": [
    "import pickle\n",
    "import pandas as pd"
   ]
  },
  {
   "cell_type": "code",
   "execution_count": 24,
   "id": "78619b2d",
   "metadata": {},
   "outputs": [],
   "source": [
    "file_path = 'train_Uncleaned_ARXIV.pkl'\n",
    "\n",
    "with open(file_path, 'rb') as file:\n",
    "    loaded_data = pickle.load(file)\n",
    "    \n",
    "df_train = loaded_data.drop(['content_emotion', 'comments_emotion', 'emotion_gap', 'style_feature'], axis=1)"
   ]
  },
  {
   "cell_type": "code",
   "execution_count": 25,
   "id": "17f966a5",
   "metadata": {},
   "outputs": [
    {
     "data": {
      "text/plain": [
       "label\n",
       "0    14397\n",
       "1     5004\n",
       "Name: count, dtype: int64"
      ]
     },
     "execution_count": 25,
     "metadata": {},
     "output_type": "execute_result"
    }
   ],
   "source": [
    "df_train['label'].value_counts()"
   ]
  },
  {
   "cell_type": "code",
   "execution_count": 26,
   "id": "546fda6a",
   "metadata": {},
   "outputs": [],
   "source": [
    "file_path = 'test_Uncleaned_ARXIV.pkl'\n",
    "\n",
    "with open(file_path, 'rb') as file:\n",
    "    loaded_data = pickle.load(file)\n",
    "    \n",
    "df_test = loaded_data.drop(['content_emotion', 'comments_emotion', 'emotion_gap', 'style_feature'], axis=1)"
   ]
  },
  {
   "cell_type": "code",
   "execution_count": 27,
   "id": "85177dce",
   "metadata": {},
   "outputs": [
    {
     "data": {
      "text/plain": [
       "label\n",
       "0    4406\n",
       "1    1341\n",
       "Name: count, dtype: int64"
      ]
     },
     "execution_count": 27,
     "metadata": {},
     "output_type": "execute_result"
    }
   ],
   "source": [
    "df_test['label'].value_counts()"
   ]
  },
  {
   "cell_type": "code",
   "execution_count": 28,
   "id": "d2278769",
   "metadata": {},
   "outputs": [],
   "source": [
    "file_path = 'val_Uncleaned_ARXIV.pkl'\n",
    "\n",
    "with open(file_path, 'rb') as file:\n",
    "    loaded_data = pickle.load(file)\n",
    "    \n",
    "df_val = loaded_data.drop(['content_emotion', 'comments_emotion', 'emotion_gap', 'style_feature'], axis=1)"
   ]
  },
  {
   "cell_type": "code",
   "execution_count": 29,
   "id": "a8bb00fc",
   "metadata": {},
   "outputs": [
    {
     "data": {
      "text/plain": [
       "label\n",
       "0    4334\n",
       "1    1326\n",
       "Name: count, dtype: int64"
      ]
     },
     "execution_count": 29,
     "metadata": {},
     "output_type": "execute_result"
    }
   ],
   "source": [
    "df_val['label'].value_counts()"
   ]
  },
  {
   "cell_type": "code",
   "execution_count": 30,
   "id": "18fde6f2",
   "metadata": {},
   "outputs": [],
   "source": [
    "df = pd.concat([df_train, df_test, df_val], axis=0)\n",
    "df['label'] = df['label'].apply(lambda x: int(x))\n",
    "df.drop(['comments', 'category'], axis=1, inplace=True)\n",
    "df_true = df[df['label'] == 1]\n",
    "df_false = df[df['label'] == 0]\n",
    "df_true.reset_index(inplace=True)\n",
    "#df_true.drop(['index'], axis=1, inplace=True)\n",
    "df_false.reset_index(inplace=True)\n",
    "#df_false.drop(['index'], axis=1, inplace=True)"
   ]
  },
  {
   "cell_type": "code",
   "execution_count": 31,
   "id": "4d662400",
   "metadata": {},
   "outputs": [
    {
     "data": {
      "text/plain": [
       "label\n",
       "1    7671\n",
       "Name: count, dtype: int64"
      ]
     },
     "execution_count": 31,
     "metadata": {},
     "output_type": "execute_result"
    }
   ],
   "source": [
    "df_true['label'].value_counts()"
   ]
  },
  {
   "cell_type": "code",
   "execution_count": 32,
   "id": "d06b3582",
   "metadata": {},
   "outputs": [
    {
     "data": {
      "text/plain": [
       "label\n",
       "0    23137\n",
       "Name: count, dtype: int64"
      ]
     },
     "execution_count": 32,
     "metadata": {},
     "output_type": "execute_result"
    }
   ],
   "source": [
    "df_false['label'].value_counts()"
   ]
  },
  {
   "cell_type": "code",
   "execution_count": 33,
   "id": "01568b11",
   "metadata": {},
   "outputs": [
    {
     "data": {
      "text/html": [
       "<div>\n",
       "<style scoped>\n",
       "    .dataframe tbody tr th:only-of-type {\n",
       "        vertical-align: middle;\n",
       "    }\n",
       "\n",
       "    .dataframe tbody tr th {\n",
       "        vertical-align: top;\n",
       "    }\n",
       "\n",
       "    .dataframe thead th {\n",
       "        text-align: right;\n",
       "    }\n",
       "</style>\n",
       "<table border=\"1\" class=\"dataframe\">\n",
       "  <thead>\n",
       "    <tr style=\"text-align: right;\">\n",
       "      <th></th>\n",
       "      <th>index</th>\n",
       "      <th>content</th>\n",
       "      <th>label</th>\n",
       "    </tr>\n",
       "  </thead>\n",
       "  <tbody>\n",
       "    <tr>\n",
       "      <th>0</th>\n",
       "      <td>10150</td>\n",
       "      <td>Star magazine has released an explosive report...</td>\n",
       "      <td>1</td>\n",
       "    </tr>\n",
       "    <tr>\n",
       "      <th>1</th>\n",
       "      <td>10151</td>\n",
       "      <td>Those heels were cute, but they didn't last lo...</td>\n",
       "      <td>1</td>\n",
       "    </tr>\n",
       "    <tr>\n",
       "      <th>2</th>\n",
       "      <td>10152</td>\n",
       "      <td>\\n\\nJessica Simpson‘s beloved dog, Daisy, was ...</td>\n",
       "      <td>1</td>\n",
       "    </tr>\n",
       "    <tr>\n",
       "      <th>3</th>\n",
       "      <td>10153</td>\n",
       "      <td>Brad Pitt and Angelina Jolie. Photo: Getty Ima...</td>\n",
       "      <td>1</td>\n",
       "    </tr>\n",
       "    <tr>\n",
       "      <th>4</th>\n",
       "      <td>10154</td>\n",
       "      <td>Despite looking super loved up at the Academy ...</td>\n",
       "      <td>1</td>\n",
       "    </tr>\n",
       "    <tr>\n",
       "      <th>...</th>\n",
       "      <td>...</td>\n",
       "      <td>...</td>\n",
       "      <td>...</td>\n",
       "    </tr>\n",
       "    <tr>\n",
       "      <th>7666</th>\n",
       "      <td>5643</td>\n",
       "      <td>Uncomfortable truth bombs comin’ at ya  #science</td>\n",
       "      <td>1</td>\n",
       "    </tr>\n",
       "    <tr>\n",
       "      <th>7667</th>\n",
       "      <td>5646</td>\n",
       "      <td>Secretary Carlito Galvez, Jr., Chief Implement...</td>\n",
       "      <td>1</td>\n",
       "    </tr>\n",
       "    <tr>\n",
       "      <th>7668</th>\n",
       "      <td>5656</td>\n",
       "      <td>اٹلی کی صورت حال دیکھ لیجئے۔ ڈریں اس وقت سے او...</td>\n",
       "      <td>1</td>\n",
       "    </tr>\n",
       "    <tr>\n",
       "      <th>7669</th>\n",
       "      <td>5658</td>\n",
       "      <td>This map shows COVID-19 cases reported by U.S....</td>\n",
       "      <td>1</td>\n",
       "    </tr>\n",
       "    <tr>\n",
       "      <th>7670</th>\n",
       "      <td>5659</td>\n",
       "      <td>New Wisconsin Governor Tony Evers is wasting n...</td>\n",
       "      <td>1</td>\n",
       "    </tr>\n",
       "  </tbody>\n",
       "</table>\n",
       "<p>7671 rows × 3 columns</p>\n",
       "</div>"
      ],
      "text/plain": [
       "      index                                            content  label\n",
       "0     10150  Star magazine has released an explosive report...      1\n",
       "1     10151  Those heels were cute, but they didn't last lo...      1\n",
       "2     10152  \\n\\nJessica Simpson‘s beloved dog, Daisy, was ...      1\n",
       "3     10153  Brad Pitt and Angelina Jolie. Photo: Getty Ima...      1\n",
       "4     10154  Despite looking super loved up at the Academy ...      1\n",
       "...     ...                                                ...    ...\n",
       "7666   5643   Uncomfortable truth bombs comin’ at ya  #science      1\n",
       "7667   5646  Secretary Carlito Galvez, Jr., Chief Implement...      1\n",
       "7668   5656  اٹلی کی صورت حال دیکھ لیجئے۔ ڈریں اس وقت سے او...      1\n",
       "7669   5658  This map shows COVID-19 cases reported by U.S....      1\n",
       "7670   5659  New Wisconsin Governor Tony Evers is wasting n...      1\n",
       "\n",
       "[7671 rows x 3 columns]"
      ]
     },
     "execution_count": 33,
     "metadata": {},
     "output_type": "execute_result"
    }
   ],
   "source": [
    "df_true"
   ]
  },
  {
   "cell_type": "code",
   "execution_count": 34,
   "id": "1d6b4ca1",
   "metadata": {},
   "outputs": [
    {
     "data": {
      "text/html": [
       "<div>\n",
       "<style scoped>\n",
       "    .dataframe tbody tr th:only-of-type {\n",
       "        vertical-align: middle;\n",
       "    }\n",
       "\n",
       "    .dataframe tbody tr th {\n",
       "        vertical-align: top;\n",
       "    }\n",
       "\n",
       "    .dataframe thead th {\n",
       "        text-align: right;\n",
       "    }\n",
       "</style>\n",
       "<table border=\"1\" class=\"dataframe\">\n",
       "  <thead>\n",
       "    <tr style=\"text-align: right;\">\n",
       "      <th></th>\n",
       "      <th>index</th>\n",
       "      <th>content</th>\n",
       "      <th>label</th>\n",
       "    </tr>\n",
       "  </thead>\n",
       "  <tbody>\n",
       "    <tr>\n",
       "      <th>0</th>\n",
       "      <td>0</td>\n",
       "      <td>Source: Angela George/CC BY-SA 3.0\\n\\nOne of m...</td>\n",
       "      <td>0</td>\n",
       "    </tr>\n",
       "    <tr>\n",
       "      <th>1</th>\n",
       "      <td>1</td>\n",
       "      <td>\"He gave them details of what may have occurre...</td>\n",
       "      <td>0</td>\n",
       "    </tr>\n",
       "    <tr>\n",
       "      <th>2</th>\n",
       "      <td>2</td>\n",
       "      <td>Like their respectively memorable characters i...</td>\n",
       "      <td>0</td>\n",
       "    </tr>\n",
       "    <tr>\n",
       "      <th>3</th>\n",
       "      <td>3</td>\n",
       "      <td>A cursory glance at the Spring ’16 collections...</td>\n",
       "      <td>0</td>\n",
       "    </tr>\n",
       "    <tr>\n",
       "      <th>4</th>\n",
       "      <td>4</td>\n",
       "      <td>Liza Weil and Paul Adelstein’s divorce has bee...</td>\n",
       "      <td>0</td>\n",
       "    </tr>\n",
       "    <tr>\n",
       "      <th>...</th>\n",
       "      <td>...</td>\n",
       "      <td>...</td>\n",
       "      <td>...</td>\n",
       "    </tr>\n",
       "    <tr>\n",
       "      <th>23132</th>\n",
       "      <td>5652</td>\n",
       "      <td>Yeah. I was definitely seeing this. A substant...</td>\n",
       "      <td>0</td>\n",
       "    </tr>\n",
       "    <tr>\n",
       "      <th>23133</th>\n",
       "      <td>5653</td>\n",
       "      <td>The World Health Organization (WHO) is working...</td>\n",
       "      <td>0</td>\n",
       "    </tr>\n",
       "    <tr>\n",
       "      <th>23134</th>\n",
       "      <td>5654</td>\n",
       "      <td>\"We must all learn to control and manage this ...</td>\n",
       "      <td>0</td>\n",
       "    </tr>\n",
       "    <tr>\n",
       "      <th>23135</th>\n",
       "      <td>5655</td>\n",
       "      <td>What’s the relationship between low levels of ...</td>\n",
       "      <td>0</td>\n",
       "    </tr>\n",
       "    <tr>\n",
       "      <th>23136</th>\n",
       "      <td>5657</td>\n",
       "      <td>There is a need to ensure access to controlled...</td>\n",
       "      <td>0</td>\n",
       "    </tr>\n",
       "  </tbody>\n",
       "</table>\n",
       "<p>23137 rows × 3 columns</p>\n",
       "</div>"
      ],
      "text/plain": [
       "       index                                            content  label\n",
       "0          0  Source: Angela George/CC BY-SA 3.0\\n\\nOne of m...      0\n",
       "1          1  \"He gave them details of what may have occurre...      0\n",
       "2          2  Like their respectively memorable characters i...      0\n",
       "3          3  A cursory glance at the Spring ’16 collections...      0\n",
       "4          4  Liza Weil and Paul Adelstein’s divorce has bee...      0\n",
       "...      ...                                                ...    ...\n",
       "23132   5652  Yeah. I was definitely seeing this. A substant...      0\n",
       "23133   5653  The World Health Organization (WHO) is working...      0\n",
       "23134   5654  \"We must all learn to control and manage this ...      0\n",
       "23135   5655  What’s the relationship between low levels of ...      0\n",
       "23136   5657  There is a need to ensure access to controlled...      0\n",
       "\n",
       "[23137 rows x 3 columns]"
      ]
     },
     "execution_count": 34,
     "metadata": {},
     "output_type": "execute_result"
    }
   ],
   "source": [
    "df_false"
   ]
  },
  {
   "cell_type": "code",
   "execution_count": 35,
   "id": "abdf58bc",
   "metadata": {},
   "outputs": [
    {
     "name": "stderr",
     "output_type": "stream",
     "text": [
      "C:\\Users\\bishe\\AppData\\Local\\Temp\\ipykernel_5280\\2297617362.py:1: SettingWithCopyWarning: \n",
      "A value is trying to be set on a copy of a slice from a DataFrame\n",
      "\n",
      "See the caveats in the documentation: https://pandas.pydata.org/pandas-docs/stable/user_guide/indexing.html#returning-a-view-versus-a-copy\n",
      "  df_true.drop(['index'], axis=1, inplace=True)\n"
     ]
    }
   ],
   "source": [
    "df_true.drop(['index'], axis=1, inplace=True)"
   ]
  },
  {
   "cell_type": "code",
   "execution_count": 36,
   "id": "6bcae1b1",
   "metadata": {},
   "outputs": [
    {
     "data": {
      "text/plain": [
       "Index(['content', 'label'], dtype='object')"
      ]
     },
     "execution_count": 36,
     "metadata": {},
     "output_type": "execute_result"
    }
   ],
   "source": [
    "df_true.columns"
   ]
  },
  {
   "cell_type": "code",
   "execution_count": 37,
   "id": "93d56ee5",
   "metadata": {},
   "outputs": [
    {
     "name": "stderr",
     "output_type": "stream",
     "text": [
      "C:\\Users\\bishe\\AppData\\Local\\Temp\\ipykernel_5280\\680335724.py:1: SettingWithCopyWarning: \n",
      "A value is trying to be set on a copy of a slice from a DataFrame\n",
      "\n",
      "See the caveats in the documentation: https://pandas.pydata.org/pandas-docs/stable/user_guide/indexing.html#returning-a-view-versus-a-copy\n",
      "  df_false.drop(['index'], axis=1, inplace=True)\n"
     ]
    }
   ],
   "source": [
    "df_false.drop(['index'], axis=1, inplace=True)"
   ]
  },
  {
   "cell_type": "code",
   "execution_count": 38,
   "id": "c4651f8f",
   "metadata": {},
   "outputs": [
    {
     "data": {
      "text/plain": [
       "Index(['content', 'label'], dtype='object')"
      ]
     },
     "execution_count": 38,
     "metadata": {},
     "output_type": "execute_result"
    }
   ],
   "source": [
    "df_false.columns"
   ]
  },
  {
   "cell_type": "code",
   "execution_count": 39,
   "id": "0087d100",
   "metadata": {},
   "outputs": [
    {
     "data": {
      "text/plain": [
       "(7671, 2)"
      ]
     },
     "execution_count": 39,
     "metadata": {},
     "output_type": "execute_result"
    }
   ],
   "source": [
    "df_true.shape"
   ]
  },
  {
   "cell_type": "code",
   "execution_count": 40,
   "id": "18359a65",
   "metadata": {},
   "outputs": [
    {
     "data": {
      "text/plain": [
       "(23137, 2)"
      ]
     },
     "execution_count": 40,
     "metadata": {},
     "output_type": "execute_result"
    }
   ],
   "source": [
    "df_false.shape"
   ]
  },
  {
   "cell_type": "code",
   "execution_count": 41,
   "id": "57615e6e",
   "metadata": {},
   "outputs": [],
   "source": [
    "df_true.to_csv('df_True_Arxiv.csv')\n",
    "df_false.to_csv('df_Fake_Arxiv.csv')"
   ]
  }
 ],
 "metadata": {
  "kernelspec": {
   "display_name": "Python 3 (ipykernel)",
   "language": "python",
   "name": "python3"
  },
  "language_info": {
   "codemirror_mode": {
    "name": "ipython",
    "version": 3
   },
   "file_extension": ".py",
   "mimetype": "text/x-python",
   "name": "python",
   "nbconvert_exporter": "python",
   "pygments_lexer": "ipython3",
   "version": "3.11.5"
  }
 },
 "nbformat": 4,
 "nbformat_minor": 5
}
