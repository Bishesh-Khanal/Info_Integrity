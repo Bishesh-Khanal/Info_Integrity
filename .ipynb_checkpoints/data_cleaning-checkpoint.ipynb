{
 "cells": [
  {
   "cell_type": "code",
   "execution_count": 1,
   "id": "67055e26",
   "metadata": {},
   "outputs": [],
   "source": [
    "import pandas as pd\n",
    "import re\n",
    "import string"
   ]
  },
  {
   "cell_type": "code",
   "execution_count": 2,
   "id": "4a9d465d",
   "metadata": {},
   "outputs": [],
   "source": [
    "df_false_Arxiv = pd.read_csv('df_Fake_Arxiv.csv')\n",
    "df_true_Arxiv = pd.read_csv('df_True_Arxiv.csv')\n",
    "df_false_Kaggle = pd.read_csv('df_Fake_Kaggle.csv')\n",
    "df_true_Kaggle = pd.read_csv('df_True_Kaggle.csv')\n",
    "df_true_CBS = pd.read_csv('df_True_CBS.csv')"
   ]
  },
  {
   "cell_type": "code",
   "execution_count": 3,
   "id": "2b1e002f",
   "metadata": {},
   "outputs": [],
   "source": [
    "df_false_Arxiv.drop('Unnamed: 0', axis=1, inplace=True)\n",
    "df_true_Arxiv.drop('Unnamed: 0', axis=1, inplace=True)\n",
    "df_true_CBS.drop('Unnamed: 0', axis=1, inplace=True)"
   ]
  },
  {
   "cell_type": "code",
   "execution_count": 4,
   "id": "615def62",
   "metadata": {},
   "outputs": [],
   "source": [
    "df_true_CBS['class'] = 1\n",
    "df_true_Kaggle['class'] = 1\n",
    "df_false_Kaggle['class'] = 0"
   ]
  },
  {
   "cell_type": "code",
   "execution_count": 5,
   "id": "8b954cc8",
   "metadata": {},
   "outputs": [],
   "source": [
    "df_false_Arxiv[['text', 'class']] = df_false_Arxiv[['content', 'label']]\n",
    "df_true_Arxiv[['text', 'class']] = df_true_Arxiv[['content', 'label']]"
   ]
  },
  {
   "cell_type": "code",
   "execution_count": 6,
   "id": "43cd893e",
   "metadata": {},
   "outputs": [],
   "source": [
    "df_false_Arxiv.drop(['content', 'label'], axis=1, inplace=True)\n",
    "df_true_Arxiv.drop(['content', 'label'], axis=1, inplace=True)\n",
    "df_true_CBS.drop('Link', axis=1, inplace=True)"
   ]
  },
  {
   "cell_type": "code",
   "execution_count": 7,
   "id": "34e3a88d",
   "metadata": {},
   "outputs": [],
   "source": [
    "df_true_Kaggle.drop(['subject', 'date', 'title'], axis=1, inplace=True)\n",
    "df_false_Kaggle.drop(['subject', 'date', 'title'], axis=1, inplace=True)"
   ]
  },
  {
   "cell_type": "code",
   "execution_count": 8,
   "id": "84efb826",
   "metadata": {},
   "outputs": [],
   "source": [
    "df_false_Arxiv = df_false_Arxiv.sample(frac=1).reset_index(drop=True)\n",
    "df_false_Arxiv = df_false_Arxiv[0:12469]"
   ]
  },
  {
   "cell_type": "code",
   "execution_count": 9,
   "id": "9cf1ac08",
   "metadata": {},
   "outputs": [],
   "source": [
    "df_true = pd.concat([df_true_Kaggle, df_true_CBS, df_true_Arxiv], axis=0)\n",
    "df_false = pd.concat([df_false_Kaggle, df_false_Arxiv], axis=0)"
   ]
  },
  {
   "cell_type": "code",
   "execution_count": 10,
   "id": "96262929",
   "metadata": {},
   "outputs": [],
   "source": [
    "df_true = df_true.sample(frac=1).reset_index(drop=True)\n",
    "df_false = df_false.sample(frac=1).reset_index(drop=True)"
   ]
  },
  {
   "cell_type": "code",
   "execution_count": 11,
   "id": "c35b4d69",
   "metadata": {},
   "outputs": [
    {
     "data": {
      "text/html": [
       "<div>\n",
       "<style scoped>\n",
       "    .dataframe tbody tr th:only-of-type {\n",
       "        vertical-align: middle;\n",
       "    }\n",
       "\n",
       "    .dataframe tbody tr th {\n",
       "        vertical-align: top;\n",
       "    }\n",
       "\n",
       "    .dataframe thead th {\n",
       "        text-align: right;\n",
       "    }\n",
       "</style>\n",
       "<table border=\"1\" class=\"dataframe\">\n",
       "  <thead>\n",
       "    <tr style=\"text-align: right;\">\n",
       "      <th></th>\n",
       "      <th>text</th>\n",
       "      <th>class</th>\n",
       "    </tr>\n",
       "  </thead>\n",
       "  <tbody>\n",
       "    <tr>\n",
       "      <th>0</th>\n",
       "      <td>London's Metropolitan Police said Saturday ni...</td>\n",
       "      <td>1</td>\n",
       "    </tr>\n",
       "    <tr>\n",
       "      <th>1</th>\n",
       "      <td>WASHINGTON/NEW YORK (Reuters) - U.S. President...</td>\n",
       "      <td>1</td>\n",
       "    </tr>\n",
       "    <tr>\n",
       "      <th>2</th>\n",
       "      <td>It was an eyebrow-raising moment she did not t...</td>\n",
       "      <td>1</td>\n",
       "    </tr>\n",
       "    <tr>\n",
       "      <th>3</th>\n",
       "      <td>WASHINGTON (Reuters) - President-elect Donald ...</td>\n",
       "      <td>1</td>\n",
       "    </tr>\n",
       "    <tr>\n",
       "      <th>4</th>\n",
       "      <td>Belfast, Northern Ireland — Rioters set a hij...</td>\n",
       "      <td>1</td>\n",
       "    </tr>\n",
       "    <tr>\n",
       "      <th>...</th>\n",
       "      <td>...</td>\n",
       "      <td>...</td>\n",
       "    </tr>\n",
       "    <tr>\n",
       "      <th>33880</th>\n",
       "      <td>Prince Harry, Duke of Sussex, and Meghan, Duch...</td>\n",
       "      <td>1</td>\n",
       "    </tr>\n",
       "    <tr>\n",
       "      <th>33881</th>\n",
       "      <td>Britain's biggest royal wedding in years -- th...</td>\n",
       "      <td>1</td>\n",
       "    </tr>\n",
       "    <tr>\n",
       "      <th>33882</th>\n",
       "      <td>(Reuters) - Former FBI Director James Comey de...</td>\n",
       "      <td>1</td>\n",
       "    </tr>\n",
       "    <tr>\n",
       "      <th>33883</th>\n",
       "      <td>George Clooney rented a private island for Ama...</td>\n",
       "      <td>1</td>\n",
       "    </tr>\n",
       "    <tr>\n",
       "      <th>33884</th>\n",
       "      <td>WASHINGTON (Reuters) - President Donald Trump ...</td>\n",
       "      <td>1</td>\n",
       "    </tr>\n",
       "  </tbody>\n",
       "</table>\n",
       "<p>33885 rows × 2 columns</p>\n",
       "</div>"
      ],
      "text/plain": [
       "                                                    text  class\n",
       "0       London's Metropolitan Police said Saturday ni...      1\n",
       "1      WASHINGTON/NEW YORK (Reuters) - U.S. President...      1\n",
       "2      It was an eyebrow-raising moment she did not t...      1\n",
       "3      WASHINGTON (Reuters) - President-elect Donald ...      1\n",
       "4       Belfast, Northern Ireland — Rioters set a hij...      1\n",
       "...                                                  ...    ...\n",
       "33880  Prince Harry, Duke of Sussex, and Meghan, Duch...      1\n",
       "33881  Britain's biggest royal wedding in years -- th...      1\n",
       "33882  (Reuters) - Former FBI Director James Comey de...      1\n",
       "33883  George Clooney rented a private island for Ama...      1\n",
       "33884  WASHINGTON (Reuters) - President Donald Trump ...      1\n",
       "\n",
       "[33885 rows x 2 columns]"
      ]
     },
     "execution_count": 11,
     "metadata": {},
     "output_type": "execute_result"
    }
   ],
   "source": [
    "df_true"
   ]
  },
  {
   "cell_type": "code",
   "execution_count": 12,
   "id": "1873e5a5",
   "metadata": {},
   "outputs": [
    {
     "data": {
      "text/html": [
       "<div>\n",
       "<style scoped>\n",
       "    .dataframe tbody tr th:only-of-type {\n",
       "        vertical-align: middle;\n",
       "    }\n",
       "\n",
       "    .dataframe tbody tr th {\n",
       "        vertical-align: top;\n",
       "    }\n",
       "\n",
       "    .dataframe thead th {\n",
       "        text-align: right;\n",
       "    }\n",
       "</style>\n",
       "<table border=\"1\" class=\"dataframe\">\n",
       "  <thead>\n",
       "    <tr style=\"text-align: right;\">\n",
       "      <th></th>\n",
       "      <th>text</th>\n",
       "      <th>class</th>\n",
       "    </tr>\n",
       "  </thead>\n",
       "  <tbody>\n",
       "    <tr>\n",
       "      <th>0</th>\n",
       "      <td>Every American needs to consider this new evid...</td>\n",
       "      <td>0</td>\n",
       "    </tr>\n",
       "    <tr>\n",
       "      <th>1</th>\n",
       "      <td>Trump has repeatedly decried the gun violence ...</td>\n",
       "      <td>0</td>\n",
       "    </tr>\n",
       "    <tr>\n",
       "      <th>2</th>\n",
       "      <td>If you ve subjected yourself to cable news ove...</td>\n",
       "      <td>0</td>\n",
       "    </tr>\n",
       "    <tr>\n",
       "      <th>3</th>\n",
       "      <td>Great news! Southern Methodist University in T...</td>\n",
       "      <td>0</td>\n",
       "    </tr>\n",
       "    <tr>\n",
       "      <th>4</th>\n",
       "      <td>I ve been a lifelong Republican all of my lif...</td>\n",
       "      <td>0</td>\n",
       "    </tr>\n",
       "    <tr>\n",
       "      <th>...</th>\n",
       "      <td>...</td>\n",
       "      <td>...</td>\n",
       "    </tr>\n",
       "    <tr>\n",
       "      <th>35945</th>\n",
       "      <td>Most of the time, when a celebrity make a joke...</td>\n",
       "      <td>0</td>\n",
       "    </tr>\n",
       "    <tr>\n",
       "      <th>35946</th>\n",
       "      <td>The interactive transcript could not be loaded...</td>\n",
       "      <td>0</td>\n",
       "    </tr>\n",
       "    <tr>\n",
       "      <th>35947</th>\n",
       "      <td>As of Tuesday morning, it seemed that Trump wa...</td>\n",
       "      <td>0</td>\n",
       "    </tr>\n",
       "    <tr>\n",
       "      <th>35948</th>\n",
       "      <td>This new effort to have companies report to th...</td>\n",
       "      <td>0</td>\n",
       "    </tr>\n",
       "    <tr>\n",
       "      <th>35949</th>\n",
       "      <td>Bella Hadid just dropped a (blonde) bombshell ...</td>\n",
       "      <td>0</td>\n",
       "    </tr>\n",
       "  </tbody>\n",
       "</table>\n",
       "<p>35950 rows × 2 columns</p>\n",
       "</div>"
      ],
      "text/plain": [
       "                                                    text  class\n",
       "0      Every American needs to consider this new evid...      0\n",
       "1      Trump has repeatedly decried the gun violence ...      0\n",
       "2      If you ve subjected yourself to cable news ove...      0\n",
       "3      Great news! Southern Methodist University in T...      0\n",
       "4       I ve been a lifelong Republican all of my lif...      0\n",
       "...                                                  ...    ...\n",
       "35945  Most of the time, when a celebrity make a joke...      0\n",
       "35946  The interactive transcript could not be loaded...      0\n",
       "35947  As of Tuesday morning, it seemed that Trump wa...      0\n",
       "35948  This new effort to have companies report to th...      0\n",
       "35949  Bella Hadid just dropped a (blonde) bombshell ...      0\n",
       "\n",
       "[35950 rows x 2 columns]"
      ]
     },
     "execution_count": 12,
     "metadata": {},
     "output_type": "execute_result"
    }
   ],
   "source": [
    "df_false"
   ]
  },
  {
   "cell_type": "code",
   "execution_count": 13,
   "id": "7f28a554",
   "metadata": {},
   "outputs": [
    {
     "data": {
      "text/plain": [
       "class\n",
       "0    35950\n",
       "Name: count, dtype: int64"
      ]
     },
     "execution_count": 13,
     "metadata": {},
     "output_type": "execute_result"
    }
   ],
   "source": [
    "df_false['class'].value_counts()"
   ]
  },
  {
   "cell_type": "code",
   "execution_count": 14,
   "id": "5e19197a",
   "metadata": {},
   "outputs": [
    {
     "data": {
      "text/plain": [
       "class\n",
       "1    33885\n",
       "Name: count, dtype: int64"
      ]
     },
     "execution_count": 14,
     "metadata": {},
     "output_type": "execute_result"
    }
   ],
   "source": [
    "df_true['class'].value_counts()"
   ]
  },
  {
   "cell_type": "code",
   "execution_count": 16,
   "id": "f4d48007",
   "metadata": {},
   "outputs": [
    {
     "name": "stdout",
     "output_type": "stream",
     "text": [
      "First Size of df_true:  (32032, 2)\n",
      "First Size of df_false:  (28716, 2)\n",
      "\n",
      "Size of df_true after removing duplicates:  (32032, 2)\n",
      "Size of df_false after removing duplicates:  (28716, 2)\n"
     ]
    }
   ],
   "source": [
    "## REMOVE DUPLICATES\n",
    "print('First Size of df_true: ', df_true.shape)\n",
    "print('First Size of df_false: ', df_false.shape)\n",
    "df_true.drop_duplicates(subset=['text'], inplace=True)\n",
    "df_false.drop_duplicates(subset=['text'], inplace=True)\n",
    "print('\\nSize of df_true after removing duplicates: ', df_true.shape)\n",
    "print('Size of df_false after removing duplicates: ', df_false.shape)\n",
    "df_false = df_false.reset_index(drop=True)\n",
    "df_true = df_true.reset_index(drop=True)"
   ]
  },
  {
   "cell_type": "code",
   "execution_count": 17,
   "id": "f2392975",
   "metadata": {},
   "outputs": [
    {
     "name": "stdout",
     "output_type": "stream",
     "text": [
      "\n",
      "Last Size of df:  (60544, 2)\n",
      "Last Size of manual:  (200, 2)\n"
     ]
    }
   ],
   "source": [
    "def remove_space(df, column, space):\n",
    "    df[column] = df[column].apply(lambda x: x.replace(space, ' '))\n",
    "    df[column] = df[column].apply(lambda x: x[1:] if x.startswith(' ') else x)\n",
    "\n",
    "##DATA FOR MANUAL TESTING\n",
    "manual_fake = df_false.tail(100)\n",
    "for i in range(28715, 28615, -1):\n",
    "    df_false.drop([i], axis=0, inplace=True)\n",
    "    \n",
    "manual_true = df_true.tail(100)\n",
    "for i in range(32031, 31931, -1):\n",
    "    df_true.drop([i], axis=0, inplace=True)\n",
    "    \n",
    "manual = pd.concat([manual_fake, manual_true], axis = 0)\n",
    "\n",
    "##CONCATING THE TRUE AND FALSE DATASETS\n",
    "df = pd.concat([df_true, df_false], axis=0)\n",
    "\n",
    "##REMOVING THE NULL VALUES AND SPACES\n",
    "null_values_df = df[df['text'] == ' '].index\n",
    "df.drop(null_values_df, axis=0, inplace=True)\n",
    "\n",
    "null_values_manual = manual[manual['text'] == ' '].index\n",
    "manual.drop(null_values_manual, axis=0, inplace=True)\n",
    "\n",
    "df['text'] = df['text'].apply(lambda x: str(x))\n",
    "manual['text'] = manual['text'].apply(lambda x: str(x))\n",
    "\n",
    "##REMOVING THE SPECIAL CHARACTERS\n",
    "def word_drop(text):\n",
    "    text = text.lower()\n",
    "    text = re.sub('\\[.*?\\]', '', text)\n",
    "    text = re.sub('\\\\W', ' ', text)\n",
    "    text = re.sub('https?://\\S+|www\\.\\S+', ' ', text)\n",
    "    text = re.sub('<.*?>+', '', text)\n",
    "    text = re.sub('[%s]' % re.escape(string.punctuation), '', text)\n",
    "    text = re.sub('\\n', '', text)\n",
    "    text = re.sub('\\w*\\d\\w*', '', text)\n",
    "    \n",
    "    return text\n",
    "\n",
    "df['text'] = df['text'].apply(word_drop)\n",
    "manual['text'] = manual['text'].apply(word_drop)\n",
    "\n",
    "remove_space(df, 'text', '    ')\n",
    "remove_space(df, 'text', '   ')\n",
    "remove_space(df, 'text', '  ')\n",
    "remove_space(manual, 'text', '    ')\n",
    "remove_space(manual, 'text', '   ')\n",
    "remove_space(manual, 'text', '  ')\n",
    "\n",
    "df['text'] = df['text'].apply(lambda x: x.replace('u s', 'usa'))\n",
    "manual['text'] = manual['text'].apply(lambda x: x.replace('u s', 'usa'))\n",
    "df['text'] = df['text'].apply(lambda x: x.replace('u s a', 'usa'))\n",
    "manual['text'] = manual['text'].apply(lambda x: x.replace('u s a', 'usa'))\n",
    "\n",
    "df.dropna()\n",
    "manual.dropna()\n",
    "\n",
    "##RE-INDEXING\n",
    "df = df.reset_index(drop=True)\n",
    "manual = manual.reset_index(drop=True)\n",
    "\n",
    "##CHECKING THE FINAL SIZE\n",
    "print('\\nLast Size of df: ', df.shape)\n",
    "print('Last Size of manual: ', manual.shape)\n",
    "\n",
    "##EXPORTING THE 'CLEANED' DATA\n",
    "df.to_csv('dataset.csv')\n",
    "manual.to_csv('manual_testing.csv')"
   ]
  },
  {
   "cell_type": "code",
   "execution_count": 18,
   "id": "e32fa9a5",
   "metadata": {},
   "outputs": [
    {
     "data": {
      "text/plain": [
       "class\n",
       "1    31930\n",
       "0    28614\n",
       "Name: count, dtype: int64"
      ]
     },
     "execution_count": 18,
     "metadata": {},
     "output_type": "execute_result"
    }
   ],
   "source": [
    "df['class'].value_counts()"
   ]
  },
  {
   "cell_type": "code",
   "execution_count": 19,
   "id": "3d05d246",
   "metadata": {},
   "outputs": [
    {
     "data": {
      "text/plain": [
       "class\n",
       "0    100\n",
       "1    100\n",
       "Name: count, dtype: int64"
      ]
     },
     "execution_count": 19,
     "metadata": {},
     "output_type": "execute_result"
    }
   ],
   "source": [
    "manual['class'].value_counts()"
   ]
  },
  {
   "cell_type": "code",
   "execution_count": 20,
   "id": "49c392b3",
   "metadata": {},
   "outputs": [
    {
     "data": {
      "text/html": [
       "<div>\n",
       "<style scoped>\n",
       "    .dataframe tbody tr th:only-of-type {\n",
       "        vertical-align: middle;\n",
       "    }\n",
       "\n",
       "    .dataframe tbody tr th {\n",
       "        vertical-align: top;\n",
       "    }\n",
       "\n",
       "    .dataframe thead th {\n",
       "        text-align: right;\n",
       "    }\n",
       "</style>\n",
       "<table border=\"1\" class=\"dataframe\">\n",
       "  <thead>\n",
       "    <tr style=\"text-align: right;\">\n",
       "      <th></th>\n",
       "      <th>text</th>\n",
       "      <th>class</th>\n",
       "    </tr>\n",
       "  </thead>\n",
       "  <tbody>\n",
       "    <tr>\n",
       "      <th>0</th>\n",
       "      <td>london s metropolitan police said saturday nig...</td>\n",
       "      <td>1</td>\n",
       "    </tr>\n",
       "    <tr>\n",
       "      <th>1</th>\n",
       "      <td>washington new york reuters usa president dona...</td>\n",
       "      <td>1</td>\n",
       "    </tr>\n",
       "    <tr>\n",
       "      <th>2</th>\n",
       "      <td>it was an eyebrow raising moment she did not t...</td>\n",
       "      <td>1</td>\n",
       "    </tr>\n",
       "    <tr>\n",
       "      <th>3</th>\n",
       "      <td>washington reuters president elect donald trum...</td>\n",
       "      <td>1</td>\n",
       "    </tr>\n",
       "    <tr>\n",
       "      <th>4</th>\n",
       "      <td>belfast northern ireland rioters set a hijacke...</td>\n",
       "      <td>1</td>\n",
       "    </tr>\n",
       "    <tr>\n",
       "      <th>...</th>\n",
       "      <td>...</td>\n",
       "      <td>...</td>\n",
       "    </tr>\n",
       "    <tr>\n",
       "      <th>60539</th>\n",
       "      <td>build that wall and when mexico sends its peop...</td>\n",
       "      <td>0</td>\n",
       "    </tr>\n",
       "    <tr>\n",
       "      <th>60540</th>\n",
       "      <td>andy cohen has gotten an intimate look at luan...</td>\n",
       "      <td>0</td>\n",
       "    </tr>\n",
       "    <tr>\n",
       "      <th>60541</th>\n",
       "      <td>kansas secretary of state kris kobach has repo...</td>\n",
       "      <td>0</td>\n",
       "    </tr>\n",
       "    <tr>\n",
       "      <th>60542</th>\n",
       "      <td>get celebs updates directly to your inbox subs...</td>\n",
       "      <td>0</td>\n",
       "    </tr>\n",
       "    <tr>\n",
       "      <th>60543</th>\n",
       "      <td>barack obama has been accused again and again ...</td>\n",
       "      <td>0</td>\n",
       "    </tr>\n",
       "  </tbody>\n",
       "</table>\n",
       "<p>60544 rows × 2 columns</p>\n",
       "</div>"
      ],
      "text/plain": [
       "                                                    text  class\n",
       "0      london s metropolitan police said saturday nig...      1\n",
       "1      washington new york reuters usa president dona...      1\n",
       "2      it was an eyebrow raising moment she did not t...      1\n",
       "3      washington reuters president elect donald trum...      1\n",
       "4      belfast northern ireland rioters set a hijacke...      1\n",
       "...                                                  ...    ...\n",
       "60539  build that wall and when mexico sends its peop...      0\n",
       "60540  andy cohen has gotten an intimate look at luan...      0\n",
       "60541  kansas secretary of state kris kobach has repo...      0\n",
       "60542  get celebs updates directly to your inbox subs...      0\n",
       "60543  barack obama has been accused again and again ...      0\n",
       "\n",
       "[60544 rows x 2 columns]"
      ]
     },
     "execution_count": 20,
     "metadata": {},
     "output_type": "execute_result"
    }
   ],
   "source": [
    "df"
   ]
  },
  {
   "cell_type": "code",
   "execution_count": 21,
   "id": "4b5e45c5",
   "metadata": {},
   "outputs": [
    {
     "data": {
      "text/html": [
       "<div>\n",
       "<style scoped>\n",
       "    .dataframe tbody tr th:only-of-type {\n",
       "        vertical-align: middle;\n",
       "    }\n",
       "\n",
       "    .dataframe tbody tr th {\n",
       "        vertical-align: top;\n",
       "    }\n",
       "\n",
       "    .dataframe thead th {\n",
       "        text-align: right;\n",
       "    }\n",
       "</style>\n",
       "<table border=\"1\" class=\"dataframe\">\n",
       "  <thead>\n",
       "    <tr style=\"text-align: right;\">\n",
       "      <th></th>\n",
       "      <th>text</th>\n",
       "      <th>class</th>\n",
       "    </tr>\n",
       "  </thead>\n",
       "  <tbody>\n",
       "    <tr>\n",
       "      <th>0</th>\n",
       "      <td>cnn hammered trump for retweeting white suprem...</td>\n",
       "      <td>0</td>\n",
       "    </tr>\n",
       "    <tr>\n",
       "      <th>1</th>\n",
       "      <td>donald trump s disgraced national security adv...</td>\n",
       "      <td>0</td>\n",
       "    </tr>\n",
       "    <tr>\n",
       "      <th>2</th>\n",
       "      <td>donald trump went on a whining rant about the ...</td>\n",
       "      <td>0</td>\n",
       "    </tr>\n",
       "    <tr>\n",
       "      <th>3</th>\n",
       "      <td>david daleiden the mastermind behind the debun...</td>\n",
       "      <td>0</td>\n",
       "    </tr>\n",
       "    <tr>\n",
       "      <th>4</th>\n",
       "      <td>the koch brothers arranged their meeting of we...</td>\n",
       "      <td>0</td>\n",
       "    </tr>\n",
       "    <tr>\n",
       "      <th>...</th>\n",
       "      <td>...</td>\n",
       "      <td>...</td>\n",
       "    </tr>\n",
       "    <tr>\n",
       "      <th>195</th>\n",
       "      <td>prince harry duke of sussex and meghan duchess...</td>\n",
       "      <td>1</td>\n",
       "    </tr>\n",
       "    <tr>\n",
       "      <th>196</th>\n",
       "      <td>britain s biggest royal wedding in years the u...</td>\n",
       "      <td>1</td>\n",
       "    </tr>\n",
       "    <tr>\n",
       "      <th>197</th>\n",
       "      <td>reuters former fbi director james comey detail...</td>\n",
       "      <td>1</td>\n",
       "    </tr>\n",
       "    <tr>\n",
       "      <th>198</th>\n",
       "      <td>george clooney rented a private island for ama...</td>\n",
       "      <td>1</td>\n",
       "    </tr>\n",
       "    <tr>\n",
       "      <th>199</th>\n",
       "      <td>washington reuters president donald trump and ...</td>\n",
       "      <td>1</td>\n",
       "    </tr>\n",
       "  </tbody>\n",
       "</table>\n",
       "<p>200 rows × 2 columns</p>\n",
       "</div>"
      ],
      "text/plain": [
       "                                                  text  class\n",
       "0    cnn hammered trump for retweeting white suprem...      0\n",
       "1    donald trump s disgraced national security adv...      0\n",
       "2    donald trump went on a whining rant about the ...      0\n",
       "3    david daleiden the mastermind behind the debun...      0\n",
       "4    the koch brothers arranged their meeting of we...      0\n",
       "..                                                 ...    ...\n",
       "195  prince harry duke of sussex and meghan duchess...      1\n",
       "196  britain s biggest royal wedding in years the u...      1\n",
       "197  reuters former fbi director james comey detail...      1\n",
       "198  george clooney rented a private island for ama...      1\n",
       "199  washington reuters president donald trump and ...      1\n",
       "\n",
       "[200 rows x 2 columns]"
      ]
     },
     "execution_count": 21,
     "metadata": {},
     "output_type": "execute_result"
    }
   ],
   "source": [
    "manual"
   ]
  },
  {
   "cell_type": "code",
   "execution_count": null,
   "id": "e367a148",
   "metadata": {},
   "outputs": [],
   "source": []
  }
 ],
 "metadata": {
  "kernelspec": {
   "display_name": "Python 3 (ipykernel)",
   "language": "python",
   "name": "python3"
  },
  "language_info": {
   "codemirror_mode": {
    "name": "ipython",
    "version": 3
   },
   "file_extension": ".py",
   "mimetype": "text/x-python",
   "name": "python",
   "nbconvert_exporter": "python",
   "pygments_lexer": "ipython3",
   "version": "3.11.5"
  }
 },
 "nbformat": 4,
 "nbformat_minor": 5
}
