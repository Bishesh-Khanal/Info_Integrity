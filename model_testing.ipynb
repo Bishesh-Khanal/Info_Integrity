{
 "cells": [
  {
   "cell_type": "code",
   "execution_count": 1,
   "id": "cb5496c7",
   "metadata": {},
   "outputs": [],
   "source": [
    "import pandas as pd\n",
    "import numpy as np\n",
    "from sklearn.metrics import classification_report\n",
    "import joblib\n",
    "from scipy.sparse import csr_matrix, load_npz"
   ]
  },
  {
   "cell_type": "code",
   "execution_count": 2,
   "id": "3871d6cb",
   "metadata": {},
   "outputs": [],
   "source": [
    "xv_test = load_npz('testing_data.npz')\n",
    "manual_v = load_npz('manual_testing_data.npz')"
   ]
  },
  {
   "cell_type": "code",
   "execution_count": 3,
   "id": "0ec64095",
   "metadata": {},
   "outputs": [
    {
     "name": "stdout",
     "output_type": "stream",
     "text": [
      "Testing data dimensions: (7723, 88373)\n",
      "Manual testing data dimensions: (20, 88373)\n"
     ]
    }
   ],
   "source": [
    "print(\"Testing data dimensions:\", xv_test.shape)\n",
    "print(\"Manual testing data dimensions:\", manual_v.shape)"
   ]
  },
  {
   "cell_type": "code",
   "execution_count": 4,
   "id": "6bc88b41",
   "metadata": {},
   "outputs": [],
   "source": [
    "y_test = pd.read_csv('y_test.csv')\n",
    "manual = pd.read_csv('manual_testing.csv')\n",
    "training = pd.read_csv('training_data.csv')"
   ]
  },
  {
   "cell_type": "code",
   "execution_count": 5,
   "id": "2734dc49",
   "metadata": {},
   "outputs": [],
   "source": [
    "y_test = y_test.drop('Unnamed: 0', axis=1)\n",
    "manual = manual.drop('Unnamed: 0', axis=1)\n",
    "training = training.drop('Unnamed: 0', axis=1)"
   ]
  },
  {
   "cell_type": "code",
   "execution_count": 6,
   "id": "d19223a8",
   "metadata": {},
   "outputs": [
    {
     "data": {
      "text/plain": [
       "((7723, 1), (20, 6), (30892, 1))"
      ]
     },
     "execution_count": 6,
     "metadata": {},
     "output_type": "execute_result"
    }
   ],
   "source": [
    "y_test.shape, manual.shape, training.shape"
   ]
  },
  {
   "cell_type": "markdown",
   "id": "51732a99",
   "metadata": {},
   "source": [
    "# FINAL CHECK FOR THE REPEAT OF DATA IN MANUAL AND TRAINING"
   ]
  },
  {
   "cell_type": "code",
   "execution_count": 7,
   "id": "cd085835",
   "metadata": {},
   "outputs": [
    {
     "name": "stdout",
     "output_type": "stream",
     "text": [
      "<class 'str'>\n",
      "<class 'str'>\n"
     ]
    }
   ],
   "source": [
    "print(type(manual['text'][0]))\n",
    "print(type(training['text'][0]))\n",
    "same = []\n",
    "for i in range(0, len(manual)):\n",
    "    for j in range(0, len(training)):\n",
    "        if manual['text'][i] == training['text'][j]:\n",
    "            print(i, '   ', j)\n",
    "            same.append(j)"
   ]
  },
  {
   "cell_type": "markdown",
   "id": "4176ec68",
   "metadata": {},
   "source": [
    "# SUPPORT VECTOR MACHINE"
   ]
  },
  {
   "cell_type": "code",
   "execution_count": 8,
   "id": "f76b0102",
   "metadata": {},
   "outputs": [],
   "source": [
    "support = joblib.load('Support_Vector.joblib')"
   ]
  },
  {
   "cell_type": "code",
   "execution_count": 9,
   "id": "f57a6df6",
   "metadata": {},
   "outputs": [
    {
     "data": {
      "text/plain": [
       "0.9917130648711641"
      ]
     },
     "execution_count": 9,
     "metadata": {},
     "output_type": "execute_result"
    }
   ],
   "source": [
    "support.score(xv_test, y_test)"
   ]
  },
  {
   "cell_type": "code",
   "execution_count": 10,
   "id": "2ef99803",
   "metadata": {},
   "outputs": [],
   "source": [
    "pred_Support = support.predict(xv_test)"
   ]
  },
  {
   "cell_type": "code",
   "execution_count": 11,
   "id": "d1373c77",
   "metadata": {},
   "outputs": [
    {
     "name": "stdout",
     "output_type": "stream",
     "text": [
      "              precision    recall  f1-score   support\n",
      "\n",
      "           0       0.99      0.99      0.99      3483\n",
      "           1       0.99      0.99      0.99      4240\n",
      "\n",
      "    accuracy                           0.99      7723\n",
      "   macro avg       0.99      0.99      0.99      7723\n",
      "weighted avg       0.99      0.99      0.99      7723\n",
      "\n"
     ]
    }
   ],
   "source": [
    "print(classification_report(y_test, pred_Support))"
   ]
  },
  {
   "cell_type": "code",
   "execution_count": 12,
   "id": "9071a1e5",
   "metadata": {},
   "outputs": [
    {
     "name": "stdout",
     "output_type": "stream",
     "text": [
      "[[3444   39]\n",
      " [  25 4215]]\n"
     ]
    }
   ],
   "source": [
    "from sklearn.metrics import confusion_matrix\n",
    "print(confusion_matrix(y_test, pred_Support))"
   ]
  },
  {
   "cell_type": "markdown",
   "id": "0fc36aaa",
   "metadata": {},
   "source": [
    "# LOGISTIC REGRESSION"
   ]
  },
  {
   "cell_type": "code",
   "execution_count": 13,
   "id": "2a760d6d",
   "metadata": {},
   "outputs": [],
   "source": [
    "logistics = joblib.load('Logistics_Regression.joblib')"
   ]
  },
  {
   "cell_type": "code",
   "execution_count": 14,
   "id": "467bbf4b",
   "metadata": {},
   "outputs": [
    {
     "name": "stdout",
     "output_type": "stream",
     "text": [
      "Number of features in the model: 88373\n"
     ]
    }
   ],
   "source": [
    "num_features = logistics.coef_.shape[1]\n",
    "print(\"Number of features in the model:\", num_features)"
   ]
  },
  {
   "cell_type": "code",
   "execution_count": 15,
   "id": "e5eb195e",
   "metadata": {},
   "outputs": [
    {
     "data": {
      "text/plain": [
       "0.9839440631878803"
      ]
     },
     "execution_count": 15,
     "metadata": {},
     "output_type": "execute_result"
    }
   ],
   "source": [
    "logistics.score(xv_test, y_test)"
   ]
  },
  {
   "cell_type": "code",
   "execution_count": 16,
   "id": "b832ea8b",
   "metadata": {},
   "outputs": [],
   "source": [
    "pred_Logistics = logistics.predict(xv_test)"
   ]
  },
  {
   "cell_type": "code",
   "execution_count": 17,
   "id": "121b1a58",
   "metadata": {},
   "outputs": [
    {
     "name": "stdout",
     "output_type": "stream",
     "text": [
      "              precision    recall  f1-score   support\n",
      "\n",
      "           0       0.99      0.98      0.98      3483\n",
      "           1       0.98      0.99      0.99      4240\n",
      "\n",
      "    accuracy                           0.98      7723\n",
      "   macro avg       0.98      0.98      0.98      7723\n",
      "weighted avg       0.98      0.98      0.98      7723\n",
      "\n"
     ]
    }
   ],
   "source": [
    "print(classification_report(y_test, pred_Logistics))"
   ]
  },
  {
   "cell_type": "code",
   "execution_count": 18,
   "id": "fff453c7",
   "metadata": {},
   "outputs": [
    {
     "name": "stdout",
     "output_type": "stream",
     "text": [
      "[[3406   77]\n",
      " [  47 4193]]\n"
     ]
    }
   ],
   "source": [
    "print(confusion_matrix(y_test, pred_Logistics))"
   ]
  },
  {
   "cell_type": "markdown",
   "id": "11d03fb9",
   "metadata": {},
   "source": [
    "# DECISION TREE CLASSIFIER"
   ]
  },
  {
   "cell_type": "code",
   "execution_count": 19,
   "id": "8abae2f5",
   "metadata": {},
   "outputs": [],
   "source": [
    "decision = joblib.load('DecisionTree_Classifier.joblib')"
   ]
  },
  {
   "cell_type": "code",
   "execution_count": 20,
   "id": "53b404ee",
   "metadata": {},
   "outputs": [
    {
     "name": "stdout",
     "output_type": "stream",
     "text": [
      "Number of features in the model: 88373\n"
     ]
    }
   ],
   "source": [
    "num_features = decision.tree_.n_features\n",
    "print(\"Number of features in the model:\", num_features)"
   ]
  },
  {
   "cell_type": "code",
   "execution_count": 21,
   "id": "1b339c75",
   "metadata": {},
   "outputs": [
    {
     "data": {
      "text/plain": [
       "0.9948206655444776"
      ]
     },
     "execution_count": 21,
     "metadata": {},
     "output_type": "execute_result"
    }
   ],
   "source": [
    "decision.score(xv_test, y_test)"
   ]
  },
  {
   "cell_type": "code",
   "execution_count": 22,
   "id": "418cac34",
   "metadata": {},
   "outputs": [],
   "source": [
    "pred_Decision = decision.predict(xv_test)"
   ]
  },
  {
   "cell_type": "code",
   "execution_count": 23,
   "id": "fd702931",
   "metadata": {},
   "outputs": [
    {
     "name": "stdout",
     "output_type": "stream",
     "text": [
      "              precision    recall  f1-score   support\n",
      "\n",
      "           0       0.99      0.99      0.99      3483\n",
      "           1       1.00      1.00      1.00      4240\n",
      "\n",
      "    accuracy                           0.99      7723\n",
      "   macro avg       0.99      0.99      0.99      7723\n",
      "weighted avg       0.99      0.99      0.99      7723\n",
      "\n"
     ]
    }
   ],
   "source": [
    "print(classification_report(y_test, pred_Decision))"
   ]
  },
  {
   "cell_type": "code",
   "execution_count": 24,
   "id": "23569f77",
   "metadata": {},
   "outputs": [
    {
     "name": "stdout",
     "output_type": "stream",
     "text": [
      "[[3464   19]\n",
      " [  21 4219]]\n"
     ]
    }
   ],
   "source": [
    "print(confusion_matrix(y_test, pred_Decision))"
   ]
  },
  {
   "cell_type": "markdown",
   "id": "2fd55b9c",
   "metadata": {},
   "source": [
    "# GRADIENT BOOSTING CLASSIFIER"
   ]
  },
  {
   "cell_type": "code",
   "execution_count": 25,
   "id": "caf06aa8",
   "metadata": {},
   "outputs": [],
   "source": [
    "gradient = joblib.load('GradientBoosting_Classifier.joblib')"
   ]
  },
  {
   "cell_type": "code",
   "execution_count": 26,
   "id": "b2d9e883",
   "metadata": {},
   "outputs": [
    {
     "data": {
      "text/plain": [
       "0.995727049074194"
      ]
     },
     "execution_count": 26,
     "metadata": {},
     "output_type": "execute_result"
    }
   ],
   "source": [
    "gradient.score(xv_test, y_test)"
   ]
  },
  {
   "cell_type": "code",
   "execution_count": 27,
   "id": "7279cc8c",
   "metadata": {},
   "outputs": [],
   "source": [
    "pred_Gradient = gradient.predict(xv_test)"
   ]
  },
  {
   "cell_type": "code",
   "execution_count": 28,
   "id": "fc230e69",
   "metadata": {},
   "outputs": [
    {
     "name": "stdout",
     "output_type": "stream",
     "text": [
      "              precision    recall  f1-score   support\n",
      "\n",
      "           0       1.00      0.99      1.00      3483\n",
      "           1       0.99      1.00      1.00      4240\n",
      "\n",
      "    accuracy                           1.00      7723\n",
      "   macro avg       1.00      1.00      1.00      7723\n",
      "weighted avg       1.00      1.00      1.00      7723\n",
      "\n"
     ]
    }
   ],
   "source": [
    "print(classification_report(y_test, pred_Gradient))"
   ]
  },
  {
   "cell_type": "code",
   "execution_count": 29,
   "id": "a44d4ade",
   "metadata": {},
   "outputs": [
    {
     "name": "stdout",
     "output_type": "stream",
     "text": [
      "[[3461   22]\n",
      " [  11 4229]]\n"
     ]
    }
   ],
   "source": [
    "print(confusion_matrix(y_test, pred_Gradient))"
   ]
  },
  {
   "cell_type": "markdown",
   "id": "944632af",
   "metadata": {},
   "source": [
    "# RANDOM FOREST CLASSIFIER"
   ]
  },
  {
   "cell_type": "code",
   "execution_count": 30,
   "id": "5eed7543",
   "metadata": {},
   "outputs": [],
   "source": [
    "random = joblib.load('RandomForest_Classifier.joblib')"
   ]
  },
  {
   "cell_type": "code",
   "execution_count": 31,
   "id": "9664103b",
   "metadata": {},
   "outputs": [
    {
     "data": {
      "text/plain": [
       "0.981224912598731"
      ]
     },
     "execution_count": 31,
     "metadata": {},
     "output_type": "execute_result"
    }
   ],
   "source": [
    "random.score(xv_test, y_test)"
   ]
  },
  {
   "cell_type": "code",
   "execution_count": 32,
   "id": "20be3c68",
   "metadata": {},
   "outputs": [],
   "source": [
    "pred_Random = random.predict(xv_test)"
   ]
  },
  {
   "cell_type": "code",
   "execution_count": 33,
   "id": "3adb1f16",
   "metadata": {},
   "outputs": [
    {
     "name": "stdout",
     "output_type": "stream",
     "text": [
      "              precision    recall  f1-score   support\n",
      "\n",
      "           0       0.98      0.97      0.98      3483\n",
      "           1       0.98      0.99      0.98      4240\n",
      "\n",
      "    accuracy                           0.98      7723\n",
      "   macro avg       0.98      0.98      0.98      7723\n",
      "weighted avg       0.98      0.98      0.98      7723\n",
      "\n"
     ]
    }
   ],
   "source": [
    "print(classification_report(y_test, pred_Random))"
   ]
  },
  {
   "cell_type": "code",
   "execution_count": 34,
   "id": "5124390c",
   "metadata": {},
   "outputs": [
    {
     "name": "stdout",
     "output_type": "stream",
     "text": [
      "[[3391   92]\n",
      " [  53 4187]]\n"
     ]
    }
   ],
   "source": [
    "print(confusion_matrix(y_test, pred_Random))"
   ]
  },
  {
   "cell_type": "markdown",
   "id": "15ba2009",
   "metadata": {},
   "source": [
    "# MANUAL TESTING"
   ]
  },
  {
   "cell_type": "code",
   "execution_count": 35,
   "id": "270ac97d",
   "metadata": {},
   "outputs": [],
   "source": [
    "v_array = manual_v.toarray()"
   ]
  },
  {
   "cell_type": "code",
   "execution_count": 36,
   "id": "98a4e976",
   "metadata": {},
   "outputs": [],
   "source": [
    "def result(num):\n",
    "    if num == 0:\n",
    "        return 'Fake news'\n",
    "    elif num == 1:\n",
    "        return 'Not Fake news'\n",
    "    \n",
    "def manual_testing(news):\n",
    "    for i in range(0, len(manual)):\n",
    "        if news == manual['text'][i]:\n",
    "            req_index = i\n",
    "            break\n",
    "    pred_SV = support.predict(v_array[req_index].reshape(1, -1))\n",
    "    pred_LR = logistics.predict(v_array[req_index].reshape(1, -1))\n",
    "    pred_DT = decision.predict(v_array[req_index].reshape(1, -1))\n",
    "    pred_GBC = gradient.predict(v_array[req_index].reshape(1, -1))\n",
    "    pred_RFC = random.predict(v_array[req_index].reshape(1, -1))\n",
    "    print('\\nSVC Prediction: ' + result(pred_SV))\n",
    "    print('\\nLR Prediction: ' + result(pred_LR))\n",
    "    print('\\nDT Prediction: ' + result(pred_DT))\n",
    "    print('\\nGBC Prediction: ' + result(pred_GBC))\n",
    "    print('\\nRFC Prediction: ' + result(pred_RFC))"
   ]
  },
  {
   "cell_type": "code",
   "execution_count": 37,
   "id": "cd2e4c50",
   "metadata": {},
   "outputs": [
    {
     "data": {
      "text/html": [
       "<div>\n",
       "<style scoped>\n",
       "    .dataframe tbody tr th:only-of-type {\n",
       "        vertical-align: middle;\n",
       "    }\n",
       "\n",
       "    .dataframe tbody tr th {\n",
       "        vertical-align: top;\n",
       "    }\n",
       "\n",
       "    .dataframe thead th {\n",
       "        text-align: right;\n",
       "    }\n",
       "</style>\n",
       "<table border=\"1\" class=\"dataframe\">\n",
       "  <thead>\n",
       "    <tr style=\"text-align: right;\">\n",
       "      <th></th>\n",
       "      <th>title</th>\n",
       "      <th>text</th>\n",
       "      <th>month</th>\n",
       "      <th>year</th>\n",
       "      <th>day</th>\n",
       "      <th>class</th>\n",
       "    </tr>\n",
       "  </thead>\n",
       "  <tbody>\n",
       "    <tr>\n",
       "      <th>0</th>\n",
       "      <td>mcpain john mccain furious that iran treated u...</td>\n",
       "      <td>century wire says as reported earlier this wee...</td>\n",
       "      <td>1.0</td>\n",
       "      <td>2016</td>\n",
       "      <td>16</td>\n",
       "      <td>0</td>\n",
       "    </tr>\n",
       "    <tr>\n",
       "      <th>1</th>\n",
       "      <td>justice yahoo settles e mail privacy class act...</td>\n",
       "      <td>century wire says it s a familiar theme whenev...</td>\n",
       "      <td>1.0</td>\n",
       "      <td>2016</td>\n",
       "      <td>16</td>\n",
       "      <td>0</td>\n",
       "    </tr>\n",
       "    <tr>\n",
       "      <th>2</th>\n",
       "      <td>sunnistan us and allied safe zone plan to take...</td>\n",
       "      <td>patrick henningsen century wireremember when t...</td>\n",
       "      <td>1.0</td>\n",
       "      <td>2016</td>\n",
       "      <td>15</td>\n",
       "      <td>0</td>\n",
       "    </tr>\n",
       "    <tr>\n",
       "      <th>3</th>\n",
       "      <td>how to blow million al jazeera america finally...</td>\n",
       "      <td>century wire says al jazeera america will go d...</td>\n",
       "      <td>1.0</td>\n",
       "      <td>2016</td>\n",
       "      <td>14</td>\n",
       "      <td>0</td>\n",
       "    </tr>\n",
       "    <tr>\n",
       "      <th>4</th>\n",
       "      <td>usa navy sailors held by iranian military sign...</td>\n",
       "      <td>century wire says as predicted in its new year...</td>\n",
       "      <td>1.0</td>\n",
       "      <td>2016</td>\n",
       "      <td>12</td>\n",
       "      <td>0</td>\n",
       "    </tr>\n",
       "    <tr>\n",
       "      <th>5</th>\n",
       "      <td>the white house and the theatrics of gun control</td>\n",
       "      <td>century wire says all the world s a stage and ...</td>\n",
       "      <td>1.0</td>\n",
       "      <td>2016</td>\n",
       "      <td>7</td>\n",
       "      <td>0</td>\n",
       "    </tr>\n",
       "    <tr>\n",
       "      <th>6</th>\n",
       "      <td>activists or terrorists how media controls and...</td>\n",
       "      <td>randy johnson century wirethe majority of main...</td>\n",
       "      <td>1.0</td>\n",
       "      <td>2016</td>\n",
       "      <td>7</td>\n",
       "      <td>0</td>\n",
       "    </tr>\n",
       "    <tr>\n",
       "      <th>7</th>\n",
       "      <td>boiler room no surrender no retreat heads will...</td>\n",
       "      <td>tune in to the alternate current radio network...</td>\n",
       "      <td>1.0</td>\n",
       "      <td>2016</td>\n",
       "      <td>6</td>\n",
       "      <td>0</td>\n",
       "    </tr>\n",
       "    <tr>\n",
       "      <th>8</th>\n",
       "      <td>federal showdown looms in oregon after blm abu...</td>\n",
       "      <td>century wire says a new front has just opened ...</td>\n",
       "      <td>1.0</td>\n",
       "      <td>2016</td>\n",
       "      <td>4</td>\n",
       "      <td>0</td>\n",
       "    </tr>\n",
       "    <tr>\n",
       "      <th>9</th>\n",
       "      <td>a troubled king chicago s rahm emanuel despera...</td>\n",
       "      <td>century wire says it s not that far away guess...</td>\n",
       "      <td>1.0</td>\n",
       "      <td>2016</td>\n",
       "      <td>2</td>\n",
       "      <td>0</td>\n",
       "    </tr>\n",
       "    <tr>\n",
       "      <th>10</th>\n",
       "      <td>usa north korea clash at u n forum over nuclea...</td>\n",
       "      <td>geneva reuters north korea and the united stat...</td>\n",
       "      <td>8.0</td>\n",
       "      <td>2017</td>\n",
       "      <td>22</td>\n",
       "      <td>1</td>\n",
       "    </tr>\n",
       "    <tr>\n",
       "      <th>11</th>\n",
       "      <td>mata pires owner of embattled brazil builder o...</td>\n",
       "      <td>sao paulo reuters cesar mata pires the owner a...</td>\n",
       "      <td>8.0</td>\n",
       "      <td>2017</td>\n",
       "      <td>22</td>\n",
       "      <td>1</td>\n",
       "    </tr>\n",
       "    <tr>\n",
       "      <th>12</th>\n",
       "      <td>usa north korea clash at u n arms forum on nuc...</td>\n",
       "      <td>geneva reuters north korea and the united stat...</td>\n",
       "      <td>8.0</td>\n",
       "      <td>2017</td>\n",
       "      <td>22</td>\n",
       "      <td>1</td>\n",
       "    </tr>\n",
       "    <tr>\n",
       "      <th>13</th>\n",
       "      <td>headless torso could belong to submarine journ...</td>\n",
       "      <td>copenhagen reuters danish police said on tuesd...</td>\n",
       "      <td>8.0</td>\n",
       "      <td>2017</td>\n",
       "      <td>22</td>\n",
       "      <td>1</td>\n",
       "    </tr>\n",
       "    <tr>\n",
       "      <th>14</th>\n",
       "      <td>north korea shipments to syria chemical arms a...</td>\n",
       "      <td>united nations reuters two north korean shipme...</td>\n",
       "      <td>8.0</td>\n",
       "      <td>2017</td>\n",
       "      <td>21</td>\n",
       "      <td>1</td>\n",
       "    </tr>\n",
       "    <tr>\n",
       "      <th>15</th>\n",
       "      <td>fully committed nato backs new usa approach on...</td>\n",
       "      <td>brussels reuters nato allies on tuesday welcom...</td>\n",
       "      <td>8.0</td>\n",
       "      <td>2017</td>\n",
       "      <td>22</td>\n",
       "      <td>1</td>\n",
       "    </tr>\n",
       "    <tr>\n",
       "      <th>16</th>\n",
       "      <td>lexisnexis withdrew two products from chinese ...</td>\n",
       "      <td>london reuters lexisnexis a provider of legal ...</td>\n",
       "      <td>8.0</td>\n",
       "      <td>2017</td>\n",
       "      <td>22</td>\n",
       "      <td>1</td>\n",
       "    </tr>\n",
       "    <tr>\n",
       "      <th>17</th>\n",
       "      <td>minsk cultural hub becomes haven from authorities</td>\n",
       "      <td>minsk reuters in the shadow of disused soviet ...</td>\n",
       "      <td>8.0</td>\n",
       "      <td>2017</td>\n",
       "      <td>22</td>\n",
       "      <td>1</td>\n",
       "    </tr>\n",
       "    <tr>\n",
       "      <th>18</th>\n",
       "      <td>vatican upbeat on possibility of pope francis ...</td>\n",
       "      <td>moscow reuters vatican secretary of state card...</td>\n",
       "      <td>8.0</td>\n",
       "      <td>2017</td>\n",
       "      <td>22</td>\n",
       "      <td>1</td>\n",
       "    </tr>\n",
       "    <tr>\n",
       "      <th>19</th>\n",
       "      <td>indonesia to buy billion worth of russian jets</td>\n",
       "      <td>jakarta reuters indonesia will buy sukhoi figh...</td>\n",
       "      <td>8.0</td>\n",
       "      <td>2017</td>\n",
       "      <td>22</td>\n",
       "      <td>1</td>\n",
       "    </tr>\n",
       "  </tbody>\n",
       "</table>\n",
       "</div>"
      ],
      "text/plain": [
       "                                                title  \\\n",
       "0   mcpain john mccain furious that iran treated u...   \n",
       "1   justice yahoo settles e mail privacy class act...   \n",
       "2   sunnistan us and allied safe zone plan to take...   \n",
       "3   how to blow million al jazeera america finally...   \n",
       "4   usa navy sailors held by iranian military sign...   \n",
       "5   the white house and the theatrics of gun control    \n",
       "6   activists or terrorists how media controls and...   \n",
       "7   boiler room no surrender no retreat heads will...   \n",
       "8   federal showdown looms in oregon after blm abu...   \n",
       "9   a troubled king chicago s rahm emanuel despera...   \n",
       "10  usa north korea clash at u n forum over nuclea...   \n",
       "11  mata pires owner of embattled brazil builder o...   \n",
       "12  usa north korea clash at u n arms forum on nuc...   \n",
       "13  headless torso could belong to submarine journ...   \n",
       "14  north korea shipments to syria chemical arms a...   \n",
       "15  fully committed nato backs new usa approach on...   \n",
       "16  lexisnexis withdrew two products from chinese ...   \n",
       "17  minsk cultural hub becomes haven from authorities   \n",
       "18  vatican upbeat on possibility of pope francis ...   \n",
       "19     indonesia to buy billion worth of russian jets   \n",
       "\n",
       "                                                 text  month  year  day  class  \n",
       "0   century wire says as reported earlier this wee...    1.0  2016   16      0  \n",
       "1   century wire says it s a familiar theme whenev...    1.0  2016   16      0  \n",
       "2   patrick henningsen century wireremember when t...    1.0  2016   15      0  \n",
       "3   century wire says al jazeera america will go d...    1.0  2016   14      0  \n",
       "4   century wire says as predicted in its new year...    1.0  2016   12      0  \n",
       "5   century wire says all the world s a stage and ...    1.0  2016    7      0  \n",
       "6   randy johnson century wirethe majority of main...    1.0  2016    7      0  \n",
       "7   tune in to the alternate current radio network...    1.0  2016    6      0  \n",
       "8   century wire says a new front has just opened ...    1.0  2016    4      0  \n",
       "9   century wire says it s not that far away guess...    1.0  2016    2      0  \n",
       "10  geneva reuters north korea and the united stat...    8.0  2017   22      1  \n",
       "11  sao paulo reuters cesar mata pires the owner a...    8.0  2017   22      1  \n",
       "12  geneva reuters north korea and the united stat...    8.0  2017   22      1  \n",
       "13  copenhagen reuters danish police said on tuesd...    8.0  2017   22      1  \n",
       "14  united nations reuters two north korean shipme...    8.0  2017   21      1  \n",
       "15  brussels reuters nato allies on tuesday welcom...    8.0  2017   22      1  \n",
       "16  london reuters lexisnexis a provider of legal ...    8.0  2017   22      1  \n",
       "17  minsk reuters in the shadow of disused soviet ...    8.0  2017   22      1  \n",
       "18  moscow reuters vatican secretary of state card...    8.0  2017   22      1  \n",
       "19  jakarta reuters indonesia will buy sukhoi figh...    8.0  2017   22      1  "
      ]
     },
     "execution_count": 37,
     "metadata": {},
     "output_type": "execute_result"
    }
   ],
   "source": [
    "manual"
   ]
  },
  {
   "cell_type": "code",
   "execution_count": 52,
   "id": "1f17b0fc",
   "metadata": {},
   "outputs": [
    {
     "name": "stdout",
     "output_type": "stream",
     "text": [
      "\n",
      "SVC Prediction: Fake news\n",
      "\n",
      "LR Prediction: Fake news\n",
      "\n",
      "DT Prediction: Fake news\n",
      "\n",
      "GBC Prediction: Fake news\n",
      "\n",
      "RFC Prediction: Fake news\n"
     ]
    }
   ],
   "source": [
    "news = manual['text'][6]\n",
    "manual_testing(news)"
   ]
  },
  {
   "cell_type": "code",
   "execution_count": null,
   "id": "2da8eb11",
   "metadata": {},
   "outputs": [],
   "source": []
  }
 ],
 "metadata": {
  "kernelspec": {
   "display_name": "Python 3 (ipykernel)",
   "language": "python",
   "name": "python3"
  },
  "language_info": {
   "codemirror_mode": {
    "name": "ipython",
    "version": 3
   },
   "file_extension": ".py",
   "mimetype": "text/x-python",
   "name": "python",
   "nbconvert_exporter": "python",
   "pygments_lexer": "ipython3",
   "version": "3.11.5"
  }
 },
 "nbformat": 4,
 "nbformat_minor": 5
}
