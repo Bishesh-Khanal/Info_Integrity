{
 "cells": [
  {
   "cell_type": "code",
   "execution_count": null,
   "id": "5faf4e3b",
   "metadata": {},
   "outputs": [],
   "source": [
    "from bs4 import BeautifulSoup\n",
    "import pandas as pd\n",
    "import requests\n",
    "\n",
    "news_dictionary = {'text': [], 'Link': []}\n",
    "\n",
    "for page in range(0,1760):\n",
    "    main_page = requests.get('https://www.cbsnews.com/latest/world/'+str(page)+'/')\n",
    "    if main_page.status_code == 200:\n",
    "        soup_main = BeautifulSoup(main_page.text, 'lxml')\n",
    "        news_articles = soup_main.find_all('a', class_ = 'item__anchor')\n",
    "        for news in news_articles:\n",
    "            try:\n",
    "                link = news['href']\n",
    "            except:\n",
    "                continue\n",
    "            if link in news_dictionary['Link']:\n",
    "                continue\n",
    "            else:\n",
    "                news_page = requests.get(link)\n",
    "                if news_page.status_code == 200:\n",
    "                    soup_news = BeautifulSoup(news_page.text, 'lxml')\n",
    "                    try:\n",
    "                        content = soup_news.find('section', class_ = 'content__body')\n",
    "                        paragraphs = content.find_all('p')\n",
    "                        main_text = ''\n",
    "                        try:\n",
    "                            for par in paragraphs:\n",
    "                                main_text = main_text + ' ' + par.text\n",
    "                        except:\n",
    "                            continue\n",
    "                    except:\n",
    "                        continue\n",
    "                    news_dictionary['Link'].append(link)\n",
    "                    news_dictionary['text'].append(main_text)\n",
    "                else:\n",
    "                    continue\n",
    "    else:\n",
    "        continue\n",
    "\n",
    "df_CBS = pd.DataFrame(news_dictionary)\n",
    "df_CBS.to_csv('true.csv')"
   ]
  },
  {
   "cell_type": "code",
   "execution_count": null,
   "id": "3398f464",
   "metadata": {},
   "outputs": [],
   "source": []
  }
 ],
 "metadata": {
  "kernelspec": {
   "display_name": "Python 3 (ipykernel)",
   "language": "python",
   "name": "python3"
  },
  "language_info": {
   "codemirror_mode": {
    "name": "ipython",
    "version": 3
   },
   "file_extension": ".py",
   "mimetype": "text/x-python",
   "name": "python",
   "nbconvert_exporter": "python",
   "pygments_lexer": "ipython3",
   "version": "3.11.5"
  }
 },
 "nbformat": 4,
 "nbformat_minor": 5
}
